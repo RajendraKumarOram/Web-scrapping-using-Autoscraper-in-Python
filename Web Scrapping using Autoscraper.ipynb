{
 "cells": [
  {
   "cell_type": "code",
   "execution_count": 1,
   "id": "b479766d",
   "metadata": {},
   "outputs": [],
   "source": [
    "from autoscraper import AutoScraper"
   ]
  },
  {
   "cell_type": "code",
   "execution_count": 2,
   "id": "449f20ed",
   "metadata": {},
   "outputs": [],
   "source": [
    "## Storing Data source & wanted list\n",
    "\n",
    "fk_url = (\"https://www.flipkart.com/search?q=smartphones\")\n",
    "\n",
    "target_list = [\"₹7,499\", \"realme Narzo 50i (Carbon Black, 32 GB)\", \"41,925\"]"
   ]
  },
  {
   "cell_type": "code",
   "execution_count": 3,
   "id": "9583f594",
   "metadata": {},
   "outputs": [
    {
     "name": "stdout",
     "output_type": "stream",
     "text": [
      "['₹15,999', '₹7,499', '₹10,999', '₹9,490', '₹11,699', '₹8,999', '₹11,499', '₹12,499', '₹10,499', '₹9,499', '₹11,999', '₹10,490', 'realme 8i (Space Purple, 128 GB)', 'realme Narzo 50i (Carbon Black, 32 GB)', 'realme C25_Y (Metal Grey, 64 GB)', 'OPPO A12 (Black, 32 GB)', 'realme Narzo 50A (Oxygen Green, 64 GB)', 'realme Narzo 50i (Mint Green, 32 GB)', 'realme Narzo 50i (Carbon Black, 64 GB)', 'SAMSUNG Galaxy F12 (Sea Green, 64 GB)', 'realme Narzo 50A (Oxygen Green, 128 GB)', 'realme Narzo 50A (Oxygen Blue, 128 GB)', 'realme Narzo 50A (Oxygen Blue, 64 GB)', 'realme C21Y (Cross Blue, 64 GB)', 'realme C21Y (Cross Black, 64 GB)', 'realme C21Y (Cross Blue, 32 GB)', 'realme Narzo 50i (Mint Green, 64 GB)', 'realme C25Y (Metal Grey, 128 GB)', 'realme C25Y (Glacier Blue, 128 GB)', 'realme C21Y (Cross Black, 32 GB)', 'SAMSUNG Galaxy F12 (Sky Blue, 64 GB)', 'OPPO A12 (Flowing Silver, 64 GB)', 'SAMSUNG Galaxy F12 (Celestial Black, 64 GB)', 'realme C11 2021 (Cool Blue, 32 GB)', 'realme C11 2021 (Cool Grey, 32 GB)', 'realme C25_Y (Glacier Blue, 128 GB)']\n"
     ]
    }
   ],
   "source": [
    "## Building model\n",
    "\n",
    "scraper = AutoScraper()\n",
    "result = scraper.build(fk_url, target_list)\n",
    "\n",
    "print(result)"
   ]
  },
  {
   "cell_type": "code",
   "execution_count": 4,
   "id": "9718e2b6",
   "metadata": {
    "scrolled": false
   },
   "outputs": [
    {
     "data": {
      "text/plain": [
       "({'rule_hn23': ['₹15,999', '₹7,499', '₹10,999', '₹9,490', '₹11,699'],\n",
       "  'rule_ebcf': ['₹7,499',\n",
       "   '₹7,499',\n",
       "   '₹8,999',\n",
       "   '₹11,499',\n",
       "   '₹12,499',\n",
       "   '₹11,699',\n",
       "   '₹11,699',\n",
       "   '₹10,499',\n",
       "   '₹9,499',\n",
       "   '₹10,499',\n",
       "   '₹13,999',\n",
       "   '₹8,999',\n",
       "   '₹11,999',\n",
       "   '₹11,999',\n",
       "   '₹15,999',\n",
       "   '₹9,499',\n",
       "   '₹11,499',\n",
       "   '₹10,490',\n",
       "   '₹9,490',\n",
       "   '₹10,490',\n",
       "   '₹11,499',\n",
       "   '₹7,499',\n",
       "   '₹7,499',\n",
       "   '₹10,999'],\n",
       "  'rule_eh7o': ['₹7,499',\n",
       "   '₹7,499',\n",
       "   '₹8,999',\n",
       "   '₹11,499',\n",
       "   '₹12,499',\n",
       "   '₹11,699',\n",
       "   '₹11,699',\n",
       "   '₹10,499',\n",
       "   '₹9,499',\n",
       "   '₹10,499',\n",
       "   '₹13,999',\n",
       "   '₹8,999',\n",
       "   '₹11,999',\n",
       "   '₹11,999',\n",
       "   '₹15,999',\n",
       "   '₹9,499',\n",
       "   '₹11,499',\n",
       "   '₹10,490',\n",
       "   '₹9,490',\n",
       "   '₹10,490',\n",
       "   '₹11,499',\n",
       "   '₹7,499',\n",
       "   '₹7,499',\n",
       "   '₹10,999'],\n",
       "  'rule_cb1q': ['₹7,499',\n",
       "   '₹7,499',\n",
       "   '₹8,999',\n",
       "   '₹11,499',\n",
       "   '₹12,499',\n",
       "   '₹11,699',\n",
       "   '₹11,699',\n",
       "   '₹10,499',\n",
       "   '₹9,499',\n",
       "   '₹10,499',\n",
       "   '₹13,999',\n",
       "   '₹8,999',\n",
       "   '₹11,999',\n",
       "   '₹11,999',\n",
       "   '₹15,999',\n",
       "   '₹9,499',\n",
       "   '₹11,499',\n",
       "   '₹10,490',\n",
       "   '₹9,490',\n",
       "   '₹10,490',\n",
       "   '₹11,499',\n",
       "   '₹7,499',\n",
       "   '₹7,499',\n",
       "   '₹10,999'],\n",
       "  'rule_ozfp': ['₹7,499',\n",
       "   '₹7,499',\n",
       "   '₹8,999',\n",
       "   '₹11,499',\n",
       "   '₹12,499',\n",
       "   '₹11,699',\n",
       "   '₹11,699',\n",
       "   '₹10,499',\n",
       "   '₹9,499',\n",
       "   '₹10,499',\n",
       "   '₹13,999',\n",
       "   '₹8,999',\n",
       "   '₹11,999',\n",
       "   '₹11,999',\n",
       "   '₹15,999',\n",
       "   '₹9,499',\n",
       "   '₹11,499',\n",
       "   '₹10,490',\n",
       "   '₹9,490',\n",
       "   '₹10,490',\n",
       "   '₹11,499',\n",
       "   '₹7,499',\n",
       "   '₹7,499',\n",
       "   '₹10,999'],\n",
       "  'rule_t2m7': ['realme 8i (Space Purple, 128 GB)',\n",
       "   'realme Narzo 50i (Carbon Black, 32 GB)',\n",
       "   'realme C25_Y (Metal Grey, 64 GB)',\n",
       "   'OPPO A12 (Black, 32 GB)',\n",
       "   'realme Narzo 50A (Oxygen Green, 64 GB)'],\n",
       "  'rule_gx2z': ['realme Narzo 50i (Carbon Black, 32 GB)',\n",
       "   'realme Narzo 50i (Mint Green, 32 GB)',\n",
       "   'realme Narzo 50i (Carbon Black, 64 GB)',\n",
       "   'SAMSUNG Galaxy F12 (Sea Green, 64 GB)',\n",
       "   'realme Narzo 50A (Oxygen Blue, 128 GB)',\n",
       "   'realme Narzo 50A (Oxygen Blue, 64 GB)',\n",
       "   'realme Narzo 50A (Oxygen Green, 64 GB)',\n",
       "   'realme C21Y (Cross Blue, 64 GB)',\n",
       "   'realme C21Y (Cross Blue, 32 GB)',\n",
       "   'realme C21Y (Cross Black, 64 GB)',\n",
       "   'realme 8i (Space Black, 64 GB)',\n",
       "   'realme Narzo 50i (Mint Green, 64 GB)',\n",
       "   'realme C25Y (Metal Grey, 128 GB)',\n",
       "   'realme C25Y (Glacier Blue, 128 GB)',\n",
       "   'realme 8i (Space Purple, 128 GB)',\n",
       "   'realme C21Y (Cross Black, 32 GB)',\n",
       "   'SAMSUNG Galaxy F12 (Sky Blue, 64 GB)',\n",
       "   'OPPO A12 (Blue, 64 GB)',\n",
       "   'OPPO A12 (Black, 32 GB)',\n",
       "   'OPPO A12 (Flowing Silver, 64 GB)',\n",
       "   'SAMSUNG Galaxy F12 (Celestial Black, 64 GB)',\n",
       "   'realme C11 2021 (Cool Grey, 32 GB)',\n",
       "   'realme C11 2021 (Cool Blue, 32 GB)',\n",
       "   'realme C25_Y (Metal Grey, 64 GB)'],\n",
       "  'rule_r94n': ['realme Narzo 50i (Carbon Black, 32 GB)',\n",
       "   'realme Narzo 50i (Mint Green, 32 GB)',\n",
       "   'realme Narzo 50i (Carbon Black, 64 GB)',\n",
       "   'SAMSUNG Galaxy F12 (Sea Green, 64 GB)',\n",
       "   'realme Narzo 50A (Oxygen Blue, 128 GB)',\n",
       "   'realme Narzo 50A (Oxygen Blue, 64 GB)',\n",
       "   'realme Narzo 50A (Oxygen Green, 64 GB)',\n",
       "   'realme C21Y (Cross Blue, 64 GB)',\n",
       "   'realme C21Y (Cross Blue, 32 GB)',\n",
       "   'realme C21Y (Cross Black, 64 GB)',\n",
       "   'realme 8i (Space Black, 64 GB)',\n",
       "   'realme Narzo 50i (Mint Green, 64 GB)',\n",
       "   'realme C25Y (Metal Grey, 128 GB)',\n",
       "   'realme C25Y (Glacier Blue, 128 GB)',\n",
       "   'realme 8i (Space Purple, 128 GB)',\n",
       "   'realme C21Y (Cross Black, 32 GB)',\n",
       "   'SAMSUNG Galaxy F12 (Sky Blue, 64 GB)',\n",
       "   'OPPO A12 (Blue, 64 GB)',\n",
       "   'OPPO A12 (Black, 32 GB)',\n",
       "   'OPPO A12 (Flowing Silver, 64 GB)',\n",
       "   'SAMSUNG Galaxy F12 (Celestial Black, 64 GB)',\n",
       "   'realme C11 2021 (Cool Grey, 32 GB)',\n",
       "   'realme C11 2021 (Cool Blue, 32 GB)',\n",
       "   'realme C25_Y (Metal Grey, 64 GB)']},\n",
       " {'rule_hn23': ['₹7,499'],\n",
       "  'rule_ebcf': ['₹7,499'],\n",
       "  'rule_eh7o': ['₹11,499'],\n",
       "  'rule_cb1q': ['₹7,499'],\n",
       "  'rule_ozfp': ['₹7,499'],\n",
       "  'rule_t2m7': ['realme Narzo 50i (Carbon Black, 32 GB)'],\n",
       "  'rule_gx2z': ['realme Narzo 50i (Carbon Black, 32 GB)'],\n",
       "  'rule_r94n': ['realme Narzo 50i (Carbon Black, 32 GB)']})"
      ]
     },
     "execution_count": 4,
     "metadata": {},
     "output_type": "execute_result"
    }
   ],
   "source": [
    "# Grouping results for batter output\n",
    "\n",
    "scraper.get_result(fk_url, grouped=True)"
   ]
  },
  {
   "cell_type": "code",
   "execution_count": 7,
   "id": "33a763af",
   "metadata": {},
   "outputs": [],
   "source": [
    "## defining rules and saving the rules\n",
    "\n",
    "scraper.set_rule_aliases({'rule_r94n':'Title', 'rule_eh7o':'Price'})\n",
    "scraper.keep_rules(['rule_r94n', 'rule_eh7o'])\n",
    "scraper.save('FlipkartSearch')"
   ]
  },
  {
   "cell_type": "code",
   "execution_count": 15,
   "id": "eb4402a4",
   "metadata": {},
   "outputs": [],
   "source": [
    "## Getting resulsts from different url\n",
    "\n",
    "result = scraper.get_result_similar('https://www.flipkart.com/search?q=iphone', group_by_alias=True)"
   ]
  },
  {
   "cell_type": "code",
   "execution_count": 19,
   "id": "ccf04eff",
   "metadata": {},
   "outputs": [
    {
     "data": {
      "text/plain": [
       "['₹49,999',\n",
       " '₹60,499',\n",
       " '₹49,999',\n",
       " '₹30,499',\n",
       " '₹64,999',\n",
       " '₹35,499',\n",
       " '₹52,900',\n",
       " '₹52,900',\n",
       " '₹52,900',\n",
       " '₹79,900',\n",
       " '₹79,900',\n",
       " '₹89,900',\n",
       " '₹79,900',\n",
       " '₹89,900',\n",
       " '₹79,900',\n",
       " '₹49,900',\n",
       " '₹79,900',\n",
       " '₹54,999',\n",
       " '₹69,900',\n",
       " '₹52,900',\n",
       " '₹79,900',\n",
       " '₹99,900',\n",
       " '₹64,999',\n",
       " '₹1,79,900']"
      ]
     },
     "execution_count": 19,
     "metadata": {},
     "output_type": "execute_result"
    }
   ],
   "source": [
    "result['Price']"
   ]
  },
  {
   "cell_type": "code",
   "execution_count": null,
   "id": "b3f1cac1",
   "metadata": {},
   "outputs": [],
   "source": []
  }
 ],
 "metadata": {
  "kernelspec": {
   "display_name": "Python 3",
   "language": "python",
   "name": "python3"
  },
  "language_info": {
   "codemirror_mode": {
    "name": "ipython",
    "version": 3
   },
   "file_extension": ".py",
   "mimetype": "text/x-python",
   "name": "python",
   "nbconvert_exporter": "python",
   "pygments_lexer": "ipython3",
   "version": "3.8.8"
  }
 },
 "nbformat": 4,
 "nbformat_minor": 5
}
